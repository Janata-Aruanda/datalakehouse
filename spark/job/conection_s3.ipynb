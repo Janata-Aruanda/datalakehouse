{
 "cells": [
  {
   "cell_type": "code",
   "execution_count": 11,
   "id": "33b00953-b3da-4a28-ac23-677c59834782",
   "metadata": {},
   "outputs": [
    {
     "name": "stdout",
     "output_type": "stream",
     "text": [
      "raw\n",
      "silver\n"
     ]
    }
   ],
   "source": [
    "import boto3\n",
    "import json\n",
    "\n",
    "# Carregar configurações do arquivo JSON\n",
    "with open('config.json') as f:\n",
    "    config = json.load(f)\n",
    "\n",
    "# Configurar o cliente S3 usando as configurações do arquivo JSON\n",
    "s3 = boto3.client('s3',\n",
    "                  endpoint_url=config['aws_endpoint'],\n",
    "                  aws_access_key_id=config['aws_access_key_id'],\n",
    "                  aws_secret_access_key=config['aws_secret_access_key'],\n",
    "                  region_name='us-east-1',  # Ou a região apropriada\n",
    "                  )\n",
    "\n",
    "# Listar buckets\n",
    "response = s3.list_buckets()\n",
    "\n",
    "# Imprimir os nomes dos buckets\n",
    "for bucket in response['Buckets']:\n",
    "    print(bucket['Name'])\n"
   ]
  }
 ],
 "metadata": {
  "kernelspec": {
   "display_name": "Python 3 (ipykernel)",
   "language": "python",
   "name": "python3"
  },
  "language_info": {
   "codemirror_mode": {
    "name": "ipython",
    "version": 3
   },
   "file_extension": ".py",
   "mimetype": "text/x-python",
   "name": "python",
   "nbconvert_exporter": "python",
   "pygments_lexer": "ipython3",
   "version": "3.8.13"
  }
 },
 "nbformat": 4,
 "nbformat_minor": 5
}
